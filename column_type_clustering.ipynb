{
 "cells": [
  {
   "cell_type": "code",
   "execution_count": 153,
   "metadata": {
    "collapsed": false
   },
   "outputs": [],
   "source": [
    "import pandas as pd\n",
    "import numpy as np\n",
    "from dateutil.parser import parse\n",
    "import math\n",
    "\n",
    "# Clustering packages\n",
    "import py_stringclustering as scl\n",
    "import py_stringmatching as sm\n",
    "import py_stringsimjoin as ssj"
   ]
  },
  {
   "cell_type": "code",
   "execution_count": 154,
   "metadata": {
    "collapsed": false
   },
   "outputs": [],
   "source": [
    "file_ = 'merged_data.csv'\n",
    "df = pd.read_csv(file_, encoding='UTF-8')\n",
    "del df['Unnamed: 0']\n"
   ]
  },
  {
   "cell_type": "code",
   "execution_count": 155,
   "metadata": {
    "collapsed": false
   },
   "outputs": [
    {
     "data": {
      "text/plain": [
       "True"
      ]
     },
     "execution_count": 155,
     "metadata": {},
     "output_type": "execute_result"
    }
   ],
   "source": [
    "################# Function to check if the data type of a value is date ########################\n",
    "\n",
    "\n",
    "true_date=0\n",
    "false_date=0\n",
    "nan_count_date = 0\n",
    "\n",
    "def is_date(string):\n",
    "    global true_date,false_date,nan_count_date\n",
    "    if isinstance(string,float) and np.isnan(string):\n",
    "        nan_count_date = nan_count_date+1\n",
    "        # do nothing\n",
    "    elif isinstance(string,float) or isinstance(string,int) :\n",
    "        false_date=false_date+1\n",
    "    else:\n",
    "        try:\n",
    "            parse(string)\n",
    "            true_date=true_date+1\n",
    "        except ValueError:\n",
    "            false_date=false_date+1  \n",
    "\n",
    "def is_date_column(col):\n",
    "    global true_date,false_date,nan_count_date\n",
    "    true_date=0\n",
    "    false_date=0\n",
    "    nan_count_date = 0\n",
    "\n",
    "    col.apply(lambda x: is_date(x))\n",
    "    if true_date > 0 and false_date == 0:\n",
    "        return True\n",
    "    else:\n",
    "        return False\n",
    "# true_date, false_date,nan_count_date\n",
    "is_date_column(df['ActivityStartDate'])"
   ]
  },
  {
   "cell_type": "code",
   "execution_count": 156,
   "metadata": {
    "collapsed": false
   },
   "outputs": [
    {
     "data": {
      "text/plain": [
       "(1795, 4)"
      ]
     },
     "execution_count": 156,
     "metadata": {},
     "output_type": "execute_result"
    }
   ],
   "source": [
    "################# Function to check if the data type of a value is numeric ########################\n",
    "\n",
    "\n",
    "true_numeric=0\n",
    "false_numeric=0\n",
    "nan_count_numeric=0\n",
    "\n",
    "def is_number(n):\n",
    "    global true_numeric,false_numeric,nan_count_numeric\n",
    "    if (isinstance(n,float) and np.isnan(n)):\n",
    "        nan_count_numeric=nan_count_numeric+1\n",
    "    else:\n",
    "        try:\n",
    "            float(n)   # Type-casting the string to `float`.\n",
    "                       # If string is not a valid `float`, \n",
    "                       # it'll raise `ValueError` exception\n",
    "            true_numeric=true_numeric+1\n",
    "        except ValueError:\n",
    "            false_numeric=false_numeric+1\n",
    "def get_numeric_stats(col):\n",
    "    global true_numeric,false_numeric,nan_count_numeric\n",
    "    true_numeric=0\n",
    "    false_numeric=0\n",
    "    nan_count_numeric=0\n",
    "\n",
    "    col.apply(lambda x: is_number(x))\n",
    "    return true_numeric,false_numeric\n",
    "\n",
    "get_numeric_stats(df['NormalizedResultMeasureValue'])\n",
    "# true_numeric, false_numeric,nan_count_numeric"
   ]
  },
  {
   "cell_type": "code",
   "execution_count": 157,
   "metadata": {
    "collapsed": false
   },
   "outputs": [
    {
     "data": {
      "text/plain": [
       "False"
      ]
     },
     "execution_count": 157,
     "metadata": {},
     "output_type": "execute_result"
    }
   ],
   "source": [
    "################# Function to check if the data type of a value is text ########################\n",
    "\n",
    "true_text=0\n",
    "false_text=0\n",
    "nan_count_text=0\n",
    "\n",
    "def is_text(text):\n",
    "    global true_text,false_text,nan_count_text\n",
    "    if (isinstance(text,float) and np.isnan(text)):\n",
    "        nan_count_text=nan_count_text+1\n",
    "    else:\n",
    "        if (len(text) > 50):\n",
    "            true_text=true_text+1\n",
    "            # return True\n",
    "        else:\n",
    "            false_text=false_text+1\n",
    "            # return False\n",
    "            \n",
    "def is_text_column(col):\n",
    "    global true_text,false_text,nan_count_text\n",
    "    true_text=0\n",
    "    false_text=0\n",
    "    nan_count_text=0\n",
    "\n",
    "    col.apply(lambda x: is_text(x))\n",
    "    if true_text>0 and false_text == 0:\n",
    "        return True\n",
    "    else:\n",
    "        return False\n",
    "\n",
    "true_text, false_text, nan_count_text\n",
    "is_text_column(df['ResultCommentText'])\n"
   ]
  },
  {
   "cell_type": "code",
   "execution_count": 161,
   "metadata": {
    "collapsed": false
   },
   "outputs": [
    {
     "data": {
      "text/plain": [
       "False"
      ]
     },
     "execution_count": 161,
     "metadata": {},
     "output_type": "execute_result"
    }
   ],
   "source": [
    "################# Function to check if the data type of a value is categorical ########################\n",
    "\n",
    "true_categorical=0\n",
    "false_categorical=0\n",
    "nan_count_categorical=0\n",
    "\n",
    "def is_categorical(col):\n",
    "    global true_categorical,false_categorical,nan_count_categorical \n",
    "    true_categorical=0\n",
    "    false_categorical=0\n",
    "    nan_count_categorical=0\n",
    "    \n",
    "    length = len(col.unique())\n",
    "#     if length > 1 and length < 5:\n",
    "#         print (col.unique())\n",
    "    return ( length > 1 and length < 5)\n",
    "        \n",
    "is_categorical(df['ResultCommentText'])"
   ]
  },
  {
   "cell_type": "code",
   "execution_count": 165,
   "metadata": {
    "collapsed": false
   },
   "outputs": [],
   "source": [
    "file_ = 'merged_data.csv'\n",
    "df = pd.read_csv(file_, encoding='UTF-8')\n",
    "del df['Unnamed: 0']\n",
    "datatypes = {}\n",
    "mixed_datatypes = []\n",
    "\n",
    "for column in df:\n",
    "    if is_date_column(df[column]): #true/false\n",
    "        datatypes[column] = \"DateTime\"\n",
    "    else:\n",
    "        numeric_count, not_numeric_count = get_numeric_stats(df[column])\n",
    "        if numeric_count == 0 and not_numeric_count == 0:\n",
    "            datatypes[column] = \"Null\" \n",
    "        elif not_numeric_count == 0:\n",
    "            datatypes[column] = \"Numeric\"\n",
    "        elif numeric_count == 0:\n",
    "            if is_text_column(df[column]): #true/false\n",
    "                datatypes[column] = \"Text\"\n",
    "            elif is_categorical(df[column]) :\n",
    "                datatypes[column] = \"Categorical\"\n",
    "            else:\n",
    "                datatypes[column] = \"String\"\n",
    "        elif not_numeric_count > 0 and numeric_count > 0:\n",
    "            datatypes[column] = \"Mixed\"\n",
    "            mixed_dt = {}\n",
    "            mixed_dt[\"column\"] = column\n",
    "            mixed_dt[\"numeric_count\"] = numeric_count\n",
    "            mixed_dt[\"string_count\"] = not_numeric_count\n",
    "            mixed_datatypes.append(mixed_dt)\n",
    "#         else:\n",
    "#             print (column)"
   ]
  },
  {
   "cell_type": "code",
   "execution_count": 166,
   "metadata": {
    "collapsed": false
   },
   "outputs": [
    {
     "name": "stdout",
     "output_type": "stream",
     "text": [
      "[{'column': 'ResultMeasureValue', 'numeric_count': 1727, 'string_count': 72}, {'column': 'ResultCommentText', 'numeric_count': 302, 'string_count': 130}, {'column': 'ResultAnalyticalMethod/MethodIdentifier', 'numeric_count': 281, 'string_count': 854}, {'column': 'LaboratoryName', 'numeric_count': 262, 'string_count': 230}, {'column': 'NormalizedResultMeasureValue', 'numeric_count': 1795, 'string_count': 4}]\n"
     ]
    }
   ],
   "source": [
    "print (mixed_datatypes)"
   ]
  },
  {
   "cell_type": "code",
   "execution_count": 179,
   "metadata": {
    "collapsed": false
   },
   "outputs": [
    {
     "name": "stderr",
     "output_type": "stream",
     "text": [
      "0%                          100%\n",
      "[##############################] | ETA: 00:00:00 | ETA: 00:00:00 | ETA: 00:00:00 | ETA: 00:00:00 | ETA: 00:00:00 | ETA: 00:00:00 | ETA: 00:00:00 | ETA: 00:00:00 | ETA: 00:00:00 | ETA: 00:00:00 | ETA: 00:00:00 | ETA: 00:00:00 | ETA: 00:00:00 | ETA: 00:00:00 | ETA: 00:00:00 | ETA: 00:00:00 | ETA: 00:00:00 | ETA: 00:00:00 | ETA: 00:00:00 | ETA: 00:00:00 | ETA: 00:00:00 | ETA: 00:00:00 | ETA: 00:00:00 | ETA: 00:00:00 | ETA: 00:00:00 | ETA: 00:00:00 | ETA: 00:00:00 | ETA: 00:00:00 | ETA: 00:00:00 | ETA: 00:00:00 | ETA: 00:00:00\n",
      "Total time elapsed: 00:00:00\n",
      "0%                          100%\n",
      "[##############################] | ETA: 00:00:00 | ETA: 00:00:00 | ETA: 00:00:00 | ETA: 00:00:00 | ETA: 00:00:00 | ETA: 00:00:00 | ETA: 00:00:00 | ETA: 00:00:00 | ETA: 00:00:00 | ETA: 00:00:00 | ETA: 00:00:00 | ETA: 00:00:00 | ETA: 00:00:00 | ETA: 00:00:00 | ETA: 00:00:00 | ETA: 00:00:00 | ETA: 00:00:00 | ETA: 00:00:00 | ETA: 00:00:00 | ETA: 00:00:00 | ETA: 00:00:00 | ETA: 00:00:00 | ETA: 00:00:00 | ETA: 00:00:00 | ETA: 00:00:00 | ETA: 00:00:00 | ETA: 00:00:00 | ETA: 00:00:00 | ETA: 00:00:00 | ETA: 00:00:00 | ETA: 00:00:00\n",
      "Total time elapsed: 00:00:00\n",
      "0%                    100%\n",
      "[########################] | ETA: 00:00:00 | ETA: 00:00:00 | ETA: 00:00:00 | ETA: 00:00:00 | ETA: 00:00:00 | ETA: 00:00:00 | ETA: 00:00:00 | ETA: 00:00:00 | ETA: 00:00:00 | ETA: 00:00:00 | ETA: 00:00:00 | ETA: 00:00:00 | ETA: 00:00:00 | ETA: 00:00:00 | ETA: 00:00:00 | ETA: 00:00:00 | ETA: 00:00:00\n",
      "Total time elapsed: 00:00:00\n",
      "0%  100%\n",
      "[######] | ETA: 00:00:00 | ETA: 00:00:00 | ETA: 00:00:00 | ETA: 00:00:00 | ETA: 00:00:00\n",
      "Total time elapsed: 00:00:00\n",
      "0%                          100%\n",
      "[##############################] | ETA: 00:00:00 | ETA: 00:00:00 | ETA: 00:00:00 | ETA: 00:00:00 | ETA: 00:00:00 | ETA: 00:00:00 | ETA: 00:00:00 | ETA: 00:00:00 | ETA: 00:00:00 | ETA: 00:00:00 | ETA: 00:00:00 | ETA: 00:00:00 | ETA: 00:00:00 | ETA: 00:00:00 | ETA: 00:00:00 | ETA: 00:00:00 | ETA: 00:00:00 | ETA: 00:00:00 | ETA: 00:00:00 | ETA: 00:00:00 | ETA: 00:00:00 | ETA: 00:00:00 | ETA: 00:00:00 | ETA: 00:00:00 | ETA: 00:00:00 | ETA: 00:00:00 | ETA: 00:00:00 | ETA: 00:00:00 | ETA: 00:00:00 | ETA: 00:00:00 | ETA: 00:00:00\n",
      "Total time elapsed: 00:00:00\n"
     ]
    }
   ],
   "source": [
    "import os\n",
    "if os.path.exists('clusters'):\n",
    "    os.rmdir('clusters')\n",
    "os.makedirs('clusters')\n",
    "for item in mixed_datatypes:\n",
    "    column = item['column']\n",
    "    str_cluster = compute_cluster(column)\n",
    "    print_clusters_tofile(str_cluster,column)"
   ]
  },
  {
   "cell_type": "code",
   "execution_count": 164,
   "metadata": {
    "collapsed": false
   },
   "outputs": [],
   "source": [
    "def compute_cluster(col):\n",
    "    df_col = pd.DataFrame(df[col].unique())\n",
    "    df_col.columns = ['name']\n",
    "    df_col['id'] = range(0, len(df_col))\n",
    "    \n",
    "    # Block using Jaccard join with jacc3gr(s1, s2) >= 0.3\n",
    "    # Returns a DataFrame containing pairs of string IDs that satisfy the blocking condition\n",
    "    trigramtok = sm.QgramTokenizer(qval=3)\n",
    "    blocked_pairs = ssj.jaccard_join(df_col, df_col, 'id', 'id', 'name', 'name', trigramtok, 0.3)\n",
    "    \n",
    "    # Define clustering similarity measure\n",
    "    jaccsim = sm.Jaccard()\n",
    "\n",
    "    # Calculate sim scores\n",
    "    # Returns a list of triplets of the form (id1, id2, sim)\n",
    "    sim_scores = scl.get_sim_scores(df_col, blocked_pairs, trigramtok, jaccsim)\n",
    "    \n",
    "    sim_matrix = scl.get_sim_matrix(df_col, sim_scores)\n",
    "    \n",
    "    from sklearn.cluster import AgglomerativeClustering\n",
    "    aggcl = AgglomerativeClustering(n_clusters=5, affinity='precomputed', linkage='complete')\n",
    "\n",
    "    ### Returns a list of cluster labels\n",
    "    labels = aggcl.fit_predict(sim_matrix)\n",
    "    \n",
    "    ### Returns a list of clusters where each cluster is a list of strings\n",
    "    str_clusters = scl.get_clusters(df_col, labels)\n",
    "    \n",
    "    return str_clusters"
   ]
  },
  {
   "cell_type": "code",
   "execution_count": 178,
   "metadata": {
    "collapsed": false
   },
   "outputs": [],
   "source": [
    "def print_clusters_tofile(str_clusters,col):\n",
    "    col = replace_spl_chars(col)\n",
    "    with open('clusters/'+col+'.txt', 'w') as f:\n",
    "        for cluster in str_clusters:\n",
    "            f.write('[')\n",
    "            for _string in cluster:\n",
    "                #f.seek(0)\n",
    "                f.write(str(_string) + '\\n')\n",
    "            f.write(']\\n>>>>>>>>>>>>>>>>>>>>>>>>>>>>>>>>>>>>>>>>>>>>>>>>>>>>>>>>>>>>>>>>>>>>>>\\n')\n",
    "        f.close()"
   ]
  },
  {
   "cell_type": "code",
   "execution_count": 174,
   "metadata": {
    "collapsed": false
   },
   "outputs": [],
   "source": [
    "def replace_spl_chars(string):\n",
    "    for ch in ['/','<','>','*',':','?','|','\"','\\\\']:\n",
    "        if ch in string:\n",
    "            string=string.replace(ch,\"_\")\n",
    "    return string"
   ]
  }
 ],
 "metadata": {
  "kernelspec": {
   "display_name": "Python 3",
   "language": "python",
   "name": "python3"
  },
  "language_info": {
   "codemirror_mode": {
    "name": "ipython",
    "version": 3
   },
   "file_extension": ".py",
   "mimetype": "text/x-python",
   "name": "python",
   "nbconvert_exporter": "python",
   "pygments_lexer": "ipython3",
   "version": "3.6.3"
  }
 },
 "nbformat": 4,
 "nbformat_minor": 2
}
